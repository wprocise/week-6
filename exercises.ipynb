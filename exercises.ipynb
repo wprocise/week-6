{
  "cells": [
    {
      "cell_type": "markdown",
      "id": "ded28f26",
      "metadata": {},
      "source": [
        "<font color='darkred'> Unless otherwise noted, **this notebook will not be reviewed or autograded.**</font> You are welcome to use it for scratchwork, but **only the files listed in the exercises will be checked.**\n",
        "\n",
        "---\n",
        "\n",
        "# Exercises\n",
        "\n",
        "For these exercises, you'll be creating a [Python class](https://www.hackerearth.com/practice/python/object-oriented-programming/classes-and-objects-i/tutorial/) in the *apputil.py* file.\n",
        "\n",
        "A few tips:\n",
        "\n",
        "- Some of these exercises will require some \"JSON digging\".\n",
        "- <font color='lightblue'>Your functions should still adhere to [best practices](https://codesignal.com/learn/courses/clean-code-basics-with-python/lessons/clean-function-design-in-python), so **your class should probably contain more functions than only the ones dictated below**.</font>\n"
      ]
    },
    {
      "cell_type": "markdown",
      "id": "951027e2",
      "metadata": {},
      "source": [
        "## Exercise 1\n",
        "\n",
        "Create a Python class named `Genius` such that the following code initializes the object, and \"saves\" the access token as an attribute of the object. You'll need to use this attribute for Exercises 2 and 3.\n",
        "\n",
        "```python\n",
        "from apputil import Genius\n",
        "\n",
        "genius = Genius(access_token=\"access_token\")\n",
        "```"
      ]
    },
    {
      "cell_type": "code",
      "execution_count": 5,
      "id": "5e5dc0bc",
      "metadata": {},
      "outputs": [
        {
          "ename": "ModuleNotFoundError",
          "evalue": "No module named 'requests'",
          "output_type": "error",
          "traceback": [
            "\u001b[0;31m---------------------------------------------------------------------------\u001b[0m",
            "\u001b[0;31mModuleNotFoundError\u001b[0m                       Traceback (most recent call last)",
            "Cell \u001b[0;32mIn[5], line 2\u001b[0m\n\u001b[1;32m      1\u001b[0m \u001b[38;5;66;03m# built-in\u001b[39;00m\n\u001b[0;32m----> 2\u001b[0m \u001b[38;5;28;01mimport\u001b[39;00m\u001b[38;5;250m \u001b[39m\u001b[38;5;21;01mrequests\u001b[39;00m\n\u001b[1;32m      3\u001b[0m \u001b[38;5;28;01mimport\u001b[39;00m\u001b[38;5;250m \u001b[39m\u001b[38;5;21;01mos\u001b[39;00m\n\u001b[1;32m      4\u001b[0m \u001b[38;5;28;01mfrom\u001b[39;00m\u001b[38;5;250m \u001b[39m\u001b[38;5;21;01mmultiprocessing\u001b[39;00m\u001b[38;5;250m \u001b[39m\u001b[38;5;28;01mimport\u001b[39;00m Pool\n",
            "\u001b[0;31mModuleNotFoundError\u001b[0m: No module named 'requests'"
          ]
        }
      ],
      "source": [
        "# built-in\n",
        "import requests\n",
        "import os\n",
        "from multiprocessing import Pool\n",
        "from time import sleep\n",
        "\n",
        "# user-installed\n",
        "import pandas as pd\n",
        "from tqdm import tqdm\n",
        "from numpy.random import uniform\n",
        "from dotenv import load_dotenv\n",
        "\n",
        "load_dotenv()"
      ]
    },
    {
      "cell_type": "code",
      "execution_count": 4,
      "id": "adfcd9c0",
      "metadata": {},
      "outputs": [
        {
          "ename": "ImportError",
          "evalue": "cannot import name 'Genius' from 'apputil' (/Users/woodsprocise/Documents/IU Indy - Fall '25/Code Space Projects /week-6/apputil.py)",
          "output_type": "error",
          "traceback": [
            "\u001b[0;31m---------------------------------------------------------------------------\u001b[0m",
            "\u001b[0;31mImportError\u001b[0m                               Traceback (most recent call last)",
            "Cell \u001b[0;32mIn[4], line 2\u001b[0m\n\u001b[1;32m      1\u001b[0m \u001b[38;5;66;03m# Create a python class named 'Genius' such that the following code initializes the object, and \"saves\" the access token as an attribute of the object. You'll need to use this attribute for Exercise 2 and 3.\u001b[39;00m\n\u001b[0;32m----> 2\u001b[0m \u001b[38;5;28;01mfrom\u001b[39;00m\u001b[38;5;250m \u001b[39m\u001b[38;5;21;01mapputil\u001b[39;00m\u001b[38;5;250m \u001b[39m\u001b[38;5;28;01mimport\u001b[39;00m Genius\n",
            "\u001b[0;31mImportError\u001b[0m: cannot import name 'Genius' from 'apputil' (/Users/woodsprocise/Documents/IU Indy - Fall '25/Code Space Projects /week-6/apputil.py)"
          ]
        }
      ],
      "source": [
        "# Create a python class named 'Genius' such that the following code initializes the object, and \"saves\" the access token as an attribute of the object. You'll need to use this attribute for Exercise 2 and 3.\n",
        "from apputil import Genius"
      ]
    },
    {
      "cell_type": "markdown",
      "id": "bde62e8d",
      "metadata": {},
      "source": [
        "## Exercise 2\n",
        "\n",
        "Reference the `json_data` in the lab. Notice, when we search for an artist name (e.g., \"Missy Elliot\") in Genius, the result is a list of *songs* attributed to that artist. Suppose we want to capture information about the artist themselves.\n",
        "\n",
        "Create a method for our `Genius` class called `.get_artist(search_term)` which does the following:\n",
        "\n",
        "1. Extract the (most likely, \"Primary\") Artist ID from the first \"hit\" of the `search_term`.\n",
        "2. Use the [API path](https://docs.genius.com/#artists-h2) for this Artist ID to pull information about the artist.\n",
        "3. **Return** the dictionary containing the resulting JSON object.\n",
        "\n",
        "For example, the following code should return a dictionary of artist information:\n",
        "\n",
        "```python\n",
        "genius.get_artist(\"Radiohead\")\n",
        "```"
      ]
    },
    {
      "cell_type": "markdown",
      "id": "55054b2a",
      "metadata": {},
      "source": [
        "## Exercise 3\n",
        "\n",
        "Use the result from Exercise 2 to create another method for our `Genius` class called `.get_artists(search_terms)` (plural) which takes in a *list* of search terms, and returns a DataFrame containing a row for each search term, and the following columns:\n",
        "\n",
        "- `search_term`: the raw search term from `search_terms`\n",
        "- `artist_name`: the (most likely) artist name for the search term\n",
        "- `artist_id`: the Genius Artist ID for that artist, based on the API call\n",
        "- `followers_count`: the number of followers for that artist (if available)\n",
        "\n",
        "For example, the following should return a DataFrame with 4 rows:\n",
        "\n",
        "```python\n",
        "genius.get_artists(['Rihanna', 'Tycho', 'Seal', 'U2'])\n",
        "```"
      ]
    },
    {
      "cell_type": "markdown",
      "id": "20fd446a",
      "metadata": {},
      "source": [
        "## Bonus Exercise (optional)\n",
        "\n",
        "1. Gather a list of 100+ various musical artists, and save this list in a TXT file.\n",
        "2. Write a Python *script* that saves the result of `.get_artists` for these artists in a CSV file.\n",
        "3. If you have time, adjust this script to use multiprocessing."
      ]
    }
  ],
  "metadata": {
    "colab": {
      "provenance": []
    },
    "kernelspec": {
      "display_name": "week-6",
      "language": "python",
      "name": "python3"
    },
    "language_info": {
      "codemirror_mode": {
        "name": "ipython",
        "version": 3
      },
      "file_extension": ".py",
      "mimetype": "text/x-python",
      "name": "python",
      "nbconvert_exporter": "python",
      "pygments_lexer": "ipython3",
      "version": "3.9.23"
    }
  },
  "nbformat": 4,
  "nbformat_minor": 5
}
