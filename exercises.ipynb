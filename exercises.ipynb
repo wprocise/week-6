{
  "cells": [
    {
      "cell_type": "markdown",
      "id": "ded28f26",
      "metadata": {},
      "source": [
        "<font color='darkred'> Unless otherwise noted, **this notebook will not be reviewed or autograded.**</font> You are welcome to use it for scratchwork, but **only the files listed in the exercises will be checked.**\n",
        "\n",
        "---\n",
        "\n",
        "# Exercises\n",
        "\n",
        "For these exercises, you'll be creating a [Python class](https://www.hackerearth.com/practice/python/object-oriented-programming/classes-and-objects-i/tutorial/) in the *apputil.py* file.\n",
        "\n",
        "A few tips:\n",
        "\n",
        "- Some of these exercises will require some \"JSON digging\".\n",
        "- <font color='lightblue'>Your functions should still adhere to [best practices](https://codesignal.com/learn/courses/clean-code-basics-with-python/lessons/clean-function-design-in-python), so **your class should probably contain more functions than only the ones dictated below**.</font>\n"
      ]
    },
    {
      "cell_type": "markdown",
      "id": "951027e2",
      "metadata": {},
      "source": [
        "## Exercise 1\n",
        "\n",
        "Create a Python class named `Genius` such that the following code initializes the object, and \"saves\" the access token as an attribute of the object. You'll need to use this attribute for Exercises 2 and 3.\n",
        "\n",
        "```python\n",
        "from apputil import Genius\n",
        "\n",
        "genius = Genius(access_token=\"access_token\")\n",
        "```"
      ]
    },
    {
      "cell_type": "code",
      "execution_count": 50,
      "id": "52453c64",
      "metadata": {},
      "outputs": [
        {
          "name": "stdout",
          "output_type": "stream",
          "text": [
            "ACCESS_TOKEN: vw58dWIGES4DS1hb7pYPdbSyEIR_klztMKLcOgK3HtH2qFCn9EESV5p7xs96IiQc\n"
          ]
        }
      ],
      "source": [
        "## Exercise 1 \n",
        "\n",
        "# Create a python class named 'Genius' such that the following code initializes the object, and \"saves\" the access token as an attribute of the object. You'll need to use this attribute for Exercise 2 and 3.\n",
        "\"\"\"\n",
        "    Download the week-6.env file \n",
        "    and add to the .gitignore;\n",
        "    Then create python class 'Genius' and connect \n",
        "    to the access token in the .env file\n",
        "\"\"\"\n",
        "from dotenv import load_dotenv\n",
        "import os\n",
        "load_dotenv('week-6.env')\n",
        "\n",
        "class Genius:\n",
        "    def __init__(self):\n",
        "        self.access_token = os.getenv('ACCESS_TOKEN')\n",
        "\"\"\"\n",
        "    Should print the access token\n",
        "\"\"\"\n",
        "genius = Genius()\n",
        "print(f\"ACCESS_TOKEN: {genius.access_token}\")\n"
      ]
    },
    {
      "cell_type": "markdown",
      "id": "bde62e8d",
      "metadata": {},
      "source": [
        "## Exercise 2\n",
        "\n",
        "Reference the `json_data` in the lab. Notice, when we search for an artist name (e.g., \"Missy Elliot\") in Genius, the result is a list of *songs* attributed to that artist. Suppose we want to capture information about the artist themselves.\n",
        "\n",
        "Create a method for our `Genius` class called `.get_artist(search_term)` which does the following:\n",
        "\n",
        "1. Extract the (most likely, \"Primary\") Artist ID from the first \"hit\" of the `search_term`.\n",
        "2. Use the [API path](https://docs.genius.com/#artists-h2) for this Artist ID to pull information about the artist.\n",
        "3. **Return** the dictionary containing the resulting JSON object.\n",
        "\n",
        "For example, the following code should return a dictionary of artist information:\n",
        "\n",
        "```python\n",
        "genius.get_artist(\"Radiohead\")\n",
        "```"
      ]
    },
    {
      "cell_type": "code",
      "execution_count": null,
      "id": "707907c2",
      "metadata": {},
      "outputs": [
        {
          "name": "stdout",
          "output_type": "stream",
          "text": [
            "{'meta': {'status': 200}, 'response': {'artist': {'alternate_names': [\"Missy 'Misdemeanor' Elliott\", 'Missy', 'Melissa A. Elliott', 'Melissa Arnette Elliott', 'Melissa Elliott'], 'api_path': '/artists/1529', 'description': {'dom': {'tag': 'root', 'children': [{'tag': 'p', 'children': ['Missy Elliott, also known as Missy “Misdemeanor” Elliott, is a Grammy Award-winning rapper, singer, songwriter, producer and actress. She has released several platinum albums while writing and producing hits for the likes of ', {'tag': 'a', 'attributes': {'href': 'https://genius.com/artists/Aaliyah', 'rel': 'noopener'}, 'data': {'api_path': '/artists/1557'}, 'children': ['Aaliyah']}, ', ', {'tag': 'a', 'attributes': {'href': 'https://genius.com/artists/702', 'rel': 'noopener'}, 'data': {'api_path': '/artists/8468'}, 'children': ['702']}, ', ', {'tag': 'a', 'attributes': {'href': 'https://genius.com/artists/Swv', 'rel': 'noopener'}, 'data': {'api_path': '/artists/3258'}, 'children': ['SWV']}, ', ', {'tag': 'a', 'attributes': {'href': 'https://genius.com/artists/Total', 'rel': 'noopener'}, 'data': {'api_path': '/artists/1541'}, 'children': ['Total']}, ', ', {'tag': 'a', 'attributes': {'href': 'https://genius.com/artists/Monica', 'rel': 'noopener'}, 'data': {'api_path': '/artists/5437'}, 'children': ['Monica']}, ' and ', {'tag': 'a', 'attributes': {'href': 'https://genius.com/artists/Fantasia', 'rel': 'noopener'}, 'data': {'api_path': '/artists/8609'}, 'children': ['Fantasia']}, ' among others. She is also known for her creative music videos that took the visuals to the next level.']}, '', {'tag': 'p', 'children': ['Born Melissa Arnette Elliott in Portsmouth, Virginia on July 1, 1971, Missy began making music in 1991 with an all-female group called Fayze. They met a rapper named Melvin “', {'tag': 'a', 'attributes': {'href': 'https://genius.com/artists/Magoo', 'rel': 'noopener'}, 'data': {'api_path': '/artists/7793'}, 'children': ['Magoo']}, '” Barcliff, who connected them with producer Timothy ', {'tag': 'a', 'attributes': {'href': 'https://genius.com/artists/Timbaland', 'rel': 'noopener'}, 'data': {'api_path': '/artists/112'}, 'children': ['“Timbaland”']}, ' Mosley and the group recruited Tim to produce for them. Their tracks caught the attention of ', {'tag': 'a', 'attributes': {'href': 'https://genius.com/artists/Devante-swing', 'rel': 'noopener'}, 'data': {'api_path': '/artists/34057'}, 'children': ['DeVante Swing']}, ', the main producer and songwriter of the R&B group ', {'tag': 'a', 'attributes': {'href': 'https://genius.com/artists/Jodeci', 'rel': 'noopener'}, 'data': {'api_path': '/artists/1342'}, 'children': ['Jodeci']}, '. He renamed Missy’s group from Fayze to ', {'tag': 'a', 'attributes': {'href': 'https://genius.com/artists/Sista', 'rel': 'noopener'}, 'data': {'api_path': '/artists/8360'}, 'children': ['Sista']}, ' and also gave Timbaland his name as he made them a part of his Swing Mob (a.k.a. Da Bassment Crew), which also included singers ', {'tag': 'a', 'attributes': {'href': 'https://genius.com/artists/Ginuwine', 'rel': 'noopener'}, 'data': {'api_path': '/artists/816'}, 'children': ['Ginuwine']}, ', ', {'tag': 'a', 'attributes': {'href': 'https://genius.com/artists/Tweet', 'rel': 'noopener'}, 'data': {'api_path': '/artists/6756'}, 'children': ['Tweet']}, ', and the group ', {'tag': 'a', 'attributes': {'href': 'https://genius.com/artists/Playa', 'rel': 'noopener'}, 'data': {'api_path': '/artists/7814'}, 'children': ['Playa']}, '. Sista released the song ', {'tag': 'a', 'attributes': {'href': 'https://genius.com/Sista-brand-new-lyrics', 'rel': 'noopener'}, 'data': {'api_path': '/songs/1595982'}, 'children': ['“Brand New”']}, ' in 1993 and Missy appeared on Raven-Symoné’s single ', {'tag': 'a', 'attributes': {'href': 'https://genius.com/Raven-symone-thats-what-little-girls-are-made-of-lyrics', 'rel': 'noopener'}, 'data': {'api_path': '/songs/582600'}, 'children': ['“That’s What Little Girls Are Made Of”']}, ' the same year. Missy and Timbaland contributed to Jodeci’s second album, ', {'tag': 'a', 'attributes': {'href': 'https://genius.com/albums/Jodeci/Diary-of-a-mad-band', 'rel': 'noopener'}, 'data': {'api_path': '/albums/6351'}, 'children': [{'tag': 'em', 'children': ['Diary of a Mad Band']}]}, ', in 1993 and their third album, ', {'tag': 'a', 'attributes': {'href': 'https://genius.com/albums/Jodeci/The-show-the-after-party-the-hotel', 'rel': 'noopener'}, 'data': {'api_path': '/albums/6075'}, 'children': [{'tag': 'em', 'children': ['The Show, the After Party, the Hotel']}]}, ', in 1995. DeVante and Timbaland co-produced Sista’s album ', {'tag': 'a', 'attributes': {'href': 'https://genius.com/albums/Sista/4-all-the-sistas-around-da-world', 'rel': 'noopener'}, 'data': {'api_path': '/albums/5999'}, 'children': [{'tag': 'em', 'children': ['4 All the Sistas Around da World']}]}, ' but it was shelved and the Swing Mob dissolved, leading Missy, Timbaland, Ginuwine, Playa, and Magoo to form The Superfriends collective.']}, '', {'tag': 'p', 'children': ['Missy and Timbaland formed a production/songwriting duo–a duo included on ', {'tag': 'em', 'children': ['Rolling Stone']}, '’s list of the ', {'tag': 'a', 'attributes': {'href': 'https://rollingstoneindia.com/the-100-greatest-songwriters-of-all-time/', 'rel': 'noopener nofollow'}, 'children': ['100 Greatest Songwriters of All Time']}, '. They created hits such as SWV’s ', {'tag': 'a', 'attributes': {'href': 'https://genius.com/Swv-can-we-lyrics', 'rel': 'noopener'}, 'data': {'api_path': '/songs/32127'}, 'children': ['“Can We”']}, ', Total’s ', {'tag': 'a', 'attributes': {'href': 'https://genius.com/Total-what-about-us-lyrics', 'rel': 'noopener'}, 'data': {'api_path': '/songs/1182753'}, 'children': ['“What About Us?”']}, ', and they crafted half of Aaliyah’s 1996 double platinum sophomore album ', {'tag': 'a', 'attributes': {'href': 'https://genius.com/albums/Aaliyah/One-in-a-million', 'rel': 'noopener'}, 'data': {'api_path': '/albums/6008'}, 'children': [{'tag': 'em', 'children': ['One in a Million']}]}, '. Missy worked with Timbaland on her debut album ', {'tag': 'a', 'attributes': {'href': 'https://genius.com/albums/Missy-elliott/Supa-dupa-fly', 'rel': 'noopener'}, 'data': {'api_path': '/albums/20205'}, 'children': [{'tag': 'em', 'children': ['Supa Dupa Fly']}]}, ', which was released on July 15, 1997 and featured game-changing music videos for the singles ', {'tag': 'a', 'attributes': {'href': 'https://genius.com/Missy-elliott-the-rain-supa-dupa-fly-lyrics', 'rel': 'noopener'}, 'data': {'api_path': '/songs/128'}, 'children': ['“The Rain (Supa Dupa Fly),”']}, ' ', {'tag': 'a', 'attributes': {'href': 'https://genius.com/Missy-elliott-sock-it-2-me-lyrics', 'rel': 'noopener'}, 'data': {'api_path': '/songs/33244'}, 'children': ['“Sock It 2 Me,”']}, ' with ', {'tag': 'a', 'attributes': {'href': 'https://genius.com/artists/Da-brat', 'rel': 'noopener'}, 'data': {'api_path': '/artists/1679'}, 'children': ['Da Brat']}, ', ', {'tag': 'a', 'attributes': {'href': 'https://genius.com/Missy-elliott-beep-me-911-lyrics', 'rel': 'noopener'}, 'data': {'api_path': '/songs/33231'}, 'children': ['“Beep Me 911”']}, ' with 702 and Magoo, and ', {'tag': 'a', 'attributes': {'href': 'https://genius.com/Missy-elliott-hit-em-wit-da-hee-lyrics', 'rel': 'noopener'}, 'data': {'api_path': '/songs/33245'}, 'children': ['“Hit Em wit da Hee”']}, ' with ', {'tag': 'a', 'attributes': {'href': 'https://genius.com/artists/Lil-kim', 'rel': 'noopener'}, 'data': {'api_path': '/artists/411'}, 'children': [\"Lil' Kim\"]}, '. The album peaked at #3 on the ', {'tag': 'em', 'children': ['Billboard']}, ' 200 and achieved platinum status. She followed that with another platinum album, 1999’s ', {'tag': 'a', 'attributes': {'href': 'https://genius.com/albums/Missy-elliott/Da-real-world', 'rel': 'noopener'}, 'data': {'api_path': '/albums/6620'}, 'children': [{'tag': 'em', 'children': ['Da Real World']}]}, ' featuring the singles ', {'tag': 'a', 'attributes': {'href': 'https://genius.com/Missy-elliott-shes-a-bitch-lyrics', 'rel': 'noopener'}, 'data': {'api_path': '/songs/33167'}, 'children': ['“She’s a Bitch,”']}, ' ', {'tag': 'a', 'attributes': {'href': 'https://genius.com/Missy-elliott-all-n-my-grill-lyrics', 'rel': 'noopener'}, 'data': {'api_path': '/songs/33173'}, 'children': ['“All n My Grill”']}, ' with ', {'tag': 'a', 'attributes': {'href': 'https://genius.com/artists/Big-boi', 'rel': 'noopener'}, 'data': {'api_path': '/artists/318'}, 'children': ['Big Boi']}, ', and the remix to ', {'tag': 'a', 'attributes': {'href': 'https://genius.com/Missy-elliott-hot-boyz-remix-lyrics', 'rel': 'noopener'}, 'data': {'api_path': '/songs/33198'}, 'children': ['“Hot Boyz”']}, ' with ', {'tag': 'a', 'attributes': {'href': 'https://genius.com/artists/Nas', 'rel': 'noopener'}, 'data': {'api_path': '/artists/56'}, 'children': ['Nas']}, ', ', {'tag': 'a', 'attributes': {'href': 'https://genius.com/artists/Eve', 'rel': 'noopener'}, 'data': {'api_path': '/artists/458'}, 'children': ['Eve']}, ', ', {'tag': 'a', 'attributes': {'href': 'https://genius.com/artists/Q-tip', 'rel': 'noopener'}, 'data': {'api_path': '/artists/267'}, 'children': ['Q-Tip']}, ' and ', {'tag': 'a', 'attributes': {'href': 'https://genius.com/artists/Lil-mo', 'rel': 'noopener'}, 'data': {'api_path': '/artists/2445'}, 'children': [\"Lil' Mo\"]}, '.']}, '', {'tag': 'p', 'children': ['Missy began the 2000s with three platinum albums in consecutive years with 2001’s ', {'tag': 'a', 'attributes': {'href': 'https://genius.com/albums/Missy-elliott/Miss-e-so-addictive', 'rel': 'noopener'}, 'data': {'api_path': '/albums/6630'}, 'children': [{'tag': 'em', 'children': ['Miss E… So Addictive']}]}, ' featuring the platinum hit ', {'tag': 'a', 'attributes': {'href': 'https://genius.com/Missy-elliott-get-ur-freak-on-lyrics', 'rel': 'noopener'}, 'data': {'api_path': '/songs/4640'}, 'children': ['“Get Ur Freak On,”']}, ' 2002’s ', {'tag': 'a', 'attributes': {'href': 'https://genius.com/albums/Missy-elliott/Under-construction', 'rel': 'noopener'}, 'data': {'api_path': '/albums/6639'}, 'children': [{'tag': 'em', 'children': ['Under Construction']}]}, ' featuring the double platinum hit ', {'tag': 'a', 'attributes': {'href': 'https://genius.com/Missy-elliott-work-it-lyrics', 'rel': 'noopener'}, 'data': {'api_path': '/songs/4176'}, 'children': ['“Work It,”']}, ' and 2003’s ', {'tag': 'a', 'attributes': {'href': 'https://genius.com/albums/Missy-elliott/This-is-not-a-test', 'rel': 'noopener'}, 'data': {'api_path': '/albums/6622'}, 'children': [{'tag': 'em', 'children': ['This Is Not a Test!']}]}, ', while 2005’s ', {'tag': 'a', 'attributes': {'href': 'https://genius.com/albums/Missy-elliott/The-cookbook', 'rel': 'noopener'}, 'data': {'api_path': '/albums/6618'}, 'children': [{'tag': 'em', 'children': ['The Cookbook']}]}, ' was another platinum album featuring the triple platinum hit ', {'tag': 'a', 'attributes': {'href': 'https://genius.com/Missy-elliott-lose-control-lyrics', 'rel': 'noopener'}, 'data': {'api_path': '/songs/33158'}, 'children': ['“Lose Control”']}, ' with ', {'tag': 'a', 'attributes': {'href': 'https://genius.com/artists/Ciara', 'rel': 'noopener'}, 'data': {'api_path': '/artists/1630'}, 'children': ['Ciara']}, ' and ', {'tag': 'a', 'attributes': {'href': 'https://genius.com/artists/Fatman-scoop', 'rel': 'noopener'}, 'data': {'api_path': '/artists/3516'}, 'children': ['Fatman Scoop']}, '. Missy also wrote, produced and featured on a number of songs, including the platinum hits ', {'tag': 'a', 'attributes': {'href': 'https://genius.com/Ciara-one-two-step-lyrics', 'rel': 'noopener'}, 'data': {'api_path': '/songs/13852'}, 'children': ['“1, 2 Step”']}, ' with Ciara and ', {'tag': 'a', 'attributes': {'href': 'https://genius.com/Keyshia-cole-let-it-go-lyrics', 'rel': 'noopener'}, 'data': {'api_path': '/songs/32495'}, 'children': ['“Let It Go”']}, ' with ', {'tag': 'a', 'attributes': {'href': 'https://genius.com/artists/Keyshia-cole', 'rel': 'noopener'}, 'data': {'api_path': '/artists/782'}, 'children': ['Keyshia Cole']}, \" and Lil' Kim.\"]}, '', {'tag': 'p', 'children': ['Missy is one of the most accomplished women in the music business. On top of selling over 40 million albums, she received the ', {'tag': 'a', 'attributes': {'href': 'https://www.youtube.com/watch?v=tXzGnMErzqc', 'rel': 'noopener nofollow'}, 'children': ['Michael Jackson Video Vanguard Award']}, ' at the 2019 MTV VMAs for her innovative music videos, honored with a star on the ', {'tag': 'a', 'attributes': {'href': 'https://walkoffame.com/missy-elliott/', 'rel': 'noopener nofollow'}, 'children': ['Hollywood Walk of Fame']}, ' in 2021, and she was the first female rapper to be inducted into the ', {'tag': 'a', 'attributes': {'href': 'https://www.songhall.org/profile/missy_elliott', 'rel': 'noopener nofollow'}, 'children': ['Songwriters Hall of Fame']}, ' in 2019 and the ', {'tag': 'a', 'attributes': {'href': 'https://www.rockhall.com/missy-elliott', 'rel': 'noopener nofollow'}, 'children': ['Rock & Roll Hall of Fame']}, ' in 2023.']}]}}, 'facebook_name': 'missyelliott', 'header_image_url': 'https://images.genius.com/d91c82fa4ae2f1016fadc1c24fbbc59e.1000x333x1.jpg', 'id': 1529, 'image_url': 'https://images.genius.com/085828b7d79bf8cf068b1557ca7a5e4c.1000x1000x1.jpg', 'instagram_name': 'missymisdemeanorelliott', 'is_meme_verified': False, 'is_verified': False, 'name': 'Missy Elliott', 'translation_artist': False, 'twitter_name': 'MissyElliott', 'url': 'https://genius.com/artists/Missy-elliott', 'current_user_metadata': {'permissions': ['view_activity_stream', 'view_discography'], 'excluded_permissions': ['edit', 'edit_images', 'edit_names', 'edit_anything', 'merge', 'sort_artist_songs', 'follow', 'view_contribution_opportunities', 'edit_translation_artist', 'split', 'see_short_id'], 'interactions': {'following': False}}, 'followers_count': 472, 'description_annotation': {'_type': 'referent', 'annotator_id': 143119, 'annotator_login': 'TheScrivener', 'api_path': '/referents/6925853', 'classification': 'accepted', 'fragment': 'Missy Elliott', 'id': 6925853, 'is_description': True, 'path': '/6925853/Missy-elliott/Missy-elliott', 'range': {'content': 'Missy Elliott'}, 'song_id': None, 'url': 'https://genius.com/6925853/Missy-elliott/Missy-elliott', 'verified_annotator_ids': [], 'annotatable': {'api_path': '/artists/1529', 'context': None, 'id': 1529, 'image_url': 'https://images.genius.com/085828b7d79bf8cf068b1557ca7a5e4c.1000x1000x1.jpg', 'link_title': 'Missy Elliott', 'title': 'Missy Elliott', 'type': 'Artist', 'url': 'https://genius.com/artists/Missy-elliott'}, 'annotations': [{'api_path': '/annotations/6925853', 'body': {'dom': {'tag': 'root', 'children': [{'tag': 'p', 'children': ['Missy Elliott, also known as Missy “Misdemeanor” Elliott, is a Grammy Award-winning rapper, singer, songwriter, producer and actress. She has released several platinum albums while writing and producing hits for the likes of ', {'tag': 'a', 'attributes': {'href': 'https://genius.com/artists/Aaliyah', 'rel': 'noopener'}, 'data': {'api_path': '/artists/1557'}, 'children': ['Aaliyah']}, ', ', {'tag': 'a', 'attributes': {'href': 'https://genius.com/artists/702', 'rel': 'noopener'}, 'data': {'api_path': '/artists/8468'}, 'children': ['702']}, ', ', {'tag': 'a', 'attributes': {'href': 'https://genius.com/artists/Swv', 'rel': 'noopener'}, 'data': {'api_path': '/artists/3258'}, 'children': ['SWV']}, ', ', {'tag': 'a', 'attributes': {'href': 'https://genius.com/artists/Total', 'rel': 'noopener'}, 'data': {'api_path': '/artists/1541'}, 'children': ['Total']}, ', ', {'tag': 'a', 'attributes': {'href': 'https://genius.com/artists/Monica', 'rel': 'noopener'}, 'data': {'api_path': '/artists/5437'}, 'children': ['Monica']}, ' and ', {'tag': 'a', 'attributes': {'href': 'https://genius.com/artists/Fantasia', 'rel': 'noopener'}, 'data': {'api_path': '/artists/8609'}, 'children': ['Fantasia']}, ' among others. She is also known for her creative music videos that took the visuals to the next level.']}, '', {'tag': 'p', 'children': ['Born Melissa Arnette Elliott in Portsmouth, Virginia on July 1, 1971, Missy began making music in 1991 with an all-female group called Fayze. They met a rapper named Melvin “', {'tag': 'a', 'attributes': {'href': 'https://genius.com/artists/Magoo', 'rel': 'noopener'}, 'data': {'api_path': '/artists/7793'}, 'children': ['Magoo']}, '” Barcliff, who connected them with producer Timothy ', {'tag': 'a', 'attributes': {'href': 'https://genius.com/artists/Timbaland', 'rel': 'noopener'}, 'data': {'api_path': '/artists/112'}, 'children': ['“Timbaland”']}, ' Mosley and the group recruited Tim to produce for them. Their tracks caught the attention of ', {'tag': 'a', 'attributes': {'href': 'https://genius.com/artists/Devante-swing', 'rel': 'noopener'}, 'data': {'api_path': '/artists/34057'}, 'children': ['DeVante Swing']}, ', the main producer and songwriter of the R&B group ', {'tag': 'a', 'attributes': {'href': 'https://genius.com/artists/Jodeci', 'rel': 'noopener'}, 'data': {'api_path': '/artists/1342'}, 'children': ['Jodeci']}, '. He renamed Missy’s group from Fayze to ', {'tag': 'a', 'attributes': {'href': 'https://genius.com/artists/Sista', 'rel': 'noopener'}, 'data': {'api_path': '/artists/8360'}, 'children': ['Sista']}, ' and also gave Timbaland his name as he made them a part of his Swing Mob (a.k.a. Da Bassment Crew), which also included singers ', {'tag': 'a', 'attributes': {'href': 'https://genius.com/artists/Ginuwine', 'rel': 'noopener'}, 'data': {'api_path': '/artists/816'}, 'children': ['Ginuwine']}, ', ', {'tag': 'a', 'attributes': {'href': 'https://genius.com/artists/Tweet', 'rel': 'noopener'}, 'data': {'api_path': '/artists/6756'}, 'children': ['Tweet']}, ', and the group ', {'tag': 'a', 'attributes': {'href': 'https://genius.com/artists/Playa', 'rel': 'noopener'}, 'data': {'api_path': '/artists/7814'}, 'children': ['Playa']}, '. Sista released the song ', {'tag': 'a', 'attributes': {'href': 'https://genius.com/Sista-brand-new-lyrics', 'rel': 'noopener'}, 'data': {'api_path': '/songs/1595982'}, 'children': ['“Brand New”']}, ' in 1993 and Missy appeared on Raven-Symoné’s single ', {'tag': 'a', 'attributes': {'href': 'https://genius.com/Raven-symone-thats-what-little-girls-are-made-of-lyrics', 'rel': 'noopener'}, 'data': {'api_path': '/songs/582600'}, 'children': ['“That’s What Little Girls Are Made Of”']}, ' the same year. Missy and Timbaland contributed to Jodeci’s second album, ', {'tag': 'a', 'attributes': {'href': 'https://genius.com/albums/Jodeci/Diary-of-a-mad-band', 'rel': 'noopener'}, 'data': {'api_path': '/albums/6351'}, 'children': [{'tag': 'em', 'children': ['Diary of a Mad Band']}]}, ', in 1993 and their third album, ', {'tag': 'a', 'attributes': {'href': 'https://genius.com/albums/Jodeci/The-show-the-after-party-the-hotel', 'rel': 'noopener'}, 'data': {'api_path': '/albums/6075'}, 'children': [{'tag': 'em', 'children': ['The Show, the After Party, the Hotel']}]}, ', in 1995. DeVante and Timbaland co-produced Sista’s album ', {'tag': 'a', 'attributes': {'href': 'https://genius.com/albums/Sista/4-all-the-sistas-around-da-world', 'rel': 'noopener'}, 'data': {'api_path': '/albums/5999'}, 'children': [{'tag': 'em', 'children': ['4 All the Sistas Around da World']}]}, ' but it was shelved and the Swing Mob dissolved, leading Missy, Timbaland, Ginuwine, Playa, and Magoo to form The Superfriends collective.']}, '', {'tag': 'p', 'children': ['Missy and Timbaland formed a production/songwriting duo–a duo included on ', {'tag': 'em', 'children': ['Rolling Stone']}, '’s list of the ', {'tag': 'a', 'attributes': {'href': 'https://rollingstoneindia.com/the-100-greatest-songwriters-of-all-time/', 'rel': 'noopener nofollow'}, 'children': ['100 Greatest Songwriters of All Time']}, '. They created hits such as SWV’s ', {'tag': 'a', 'attributes': {'href': 'https://genius.com/Swv-can-we-lyrics', 'rel': 'noopener'}, 'data': {'api_path': '/songs/32127'}, 'children': ['“Can We”']}, ', Total’s ', {'tag': 'a', 'attributes': {'href': 'https://genius.com/Total-what-about-us-lyrics', 'rel': 'noopener'}, 'data': {'api_path': '/songs/1182753'}, 'children': ['“What About Us?”']}, ', and they crafted half of Aaliyah’s 1996 double platinum sophomore album ', {'tag': 'a', 'attributes': {'href': 'https://genius.com/albums/Aaliyah/One-in-a-million', 'rel': 'noopener'}, 'data': {'api_path': '/albums/6008'}, 'children': [{'tag': 'em', 'children': ['One in a Million']}]}, '. Missy worked with Timbaland on her debut album ', {'tag': 'a', 'attributes': {'href': 'https://genius.com/albums/Missy-elliott/Supa-dupa-fly', 'rel': 'noopener'}, 'data': {'api_path': '/albums/20205'}, 'children': [{'tag': 'em', 'children': ['Supa Dupa Fly']}]}, ', which was released on July 15, 1997 and featured game-changing music videos for the singles ', {'tag': 'a', 'attributes': {'href': 'https://genius.com/Missy-elliott-the-rain-supa-dupa-fly-lyrics', 'rel': 'noopener'}, 'data': {'api_path': '/songs/128'}, 'children': ['“The Rain (Supa Dupa Fly),”']}, ' ', {'tag': 'a', 'attributes': {'href': 'https://genius.com/Missy-elliott-sock-it-2-me-lyrics', 'rel': 'noopener'}, 'data': {'api_path': '/songs/33244'}, 'children': ['“Sock It 2 Me,”']}, ' with ', {'tag': 'a', 'attributes': {'href': 'https://genius.com/artists/Da-brat', 'rel': 'noopener'}, 'data': {'api_path': '/artists/1679'}, 'children': ['Da Brat']}, ', ', {'tag': 'a', 'attributes': {'href': 'https://genius.com/Missy-elliott-beep-me-911-lyrics', 'rel': 'noopener'}, 'data': {'api_path': '/songs/33231'}, 'children': ['“Beep Me 911”']}, ' with 702 and Magoo, and ', {'tag': 'a', 'attributes': {'href': 'https://genius.com/Missy-elliott-hit-em-wit-da-hee-lyrics', 'rel': 'noopener'}, 'data': {'api_path': '/songs/33245'}, 'children': ['“Hit Em wit da Hee”']}, ' with ', {'tag': 'a', 'attributes': {'href': 'https://genius.com/artists/Lil-kim', 'rel': 'noopener'}, 'data': {'api_path': '/artists/411'}, 'children': [\"Lil' Kim\"]}, '. The album peaked at #3 on the ', {'tag': 'em', 'children': ['Billboard']}, ' 200 and achieved platinum status. She followed that with another platinum album, 1999’s ', {'tag': 'a', 'attributes': {'href': 'https://genius.com/albums/Missy-elliott/Da-real-world', 'rel': 'noopener'}, 'data': {'api_path': '/albums/6620'}, 'children': [{'tag': 'em', 'children': ['Da Real World']}]}, ' featuring the singles ', {'tag': 'a', 'attributes': {'href': 'https://genius.com/Missy-elliott-shes-a-bitch-lyrics', 'rel': 'noopener'}, 'data': {'api_path': '/songs/33167'}, 'children': ['“She’s a Bitch,”']}, ' ', {'tag': 'a', 'attributes': {'href': 'https://genius.com/Missy-elliott-all-n-my-grill-lyrics', 'rel': 'noopener'}, 'data': {'api_path': '/songs/33173'}, 'children': ['“All n My Grill”']}, ' with ', {'tag': 'a', 'attributes': {'href': 'https://genius.com/artists/Big-boi', 'rel': 'noopener'}, 'data': {'api_path': '/artists/318'}, 'children': ['Big Boi']}, ', and the remix to ', {'tag': 'a', 'attributes': {'href': 'https://genius.com/Missy-elliott-hot-boyz-remix-lyrics', 'rel': 'noopener'}, 'data': {'api_path': '/songs/33198'}, 'children': ['“Hot Boyz”']}, ' with ', {'tag': 'a', 'attributes': {'href': 'https://genius.com/artists/Nas', 'rel': 'noopener'}, 'data': {'api_path': '/artists/56'}, 'children': ['Nas']}, ', ', {'tag': 'a', 'attributes': {'href': 'https://genius.com/artists/Eve', 'rel': 'noopener'}, 'data': {'api_path': '/artists/458'}, 'children': ['Eve']}, ', ', {'tag': 'a', 'attributes': {'href': 'https://genius.com/artists/Q-tip', 'rel': 'noopener'}, 'data': {'api_path': '/artists/267'}, 'children': ['Q-Tip']}, ' and ', {'tag': 'a', 'attributes': {'href': 'https://genius.com/artists/Lil-mo', 'rel': 'noopener'}, 'data': {'api_path': '/artists/2445'}, 'children': [\"Lil' Mo\"]}, '.']}, '', {'tag': 'p', 'children': ['Missy began the 2000s with three platinum albums in consecutive years with 2001’s ', {'tag': 'a', 'attributes': {'href': 'https://genius.com/albums/Missy-elliott/Miss-e-so-addictive', 'rel': 'noopener'}, 'data': {'api_path': '/albums/6630'}, 'children': [{'tag': 'em', 'children': ['Miss E… So Addictive']}]}, ' featuring the platinum hit ', {'tag': 'a', 'attributes': {'href': 'https://genius.com/Missy-elliott-get-ur-freak-on-lyrics', 'rel': 'noopener'}, 'data': {'api_path': '/songs/4640'}, 'children': ['“Get Ur Freak On,”']}, ' 2002’s ', {'tag': 'a', 'attributes': {'href': 'https://genius.com/albums/Missy-elliott/Under-construction', 'rel': 'noopener'}, 'data': {'api_path': '/albums/6639'}, 'children': [{'tag': 'em', 'children': ['Under Construction']}]}, ' featuring the double platinum hit ', {'tag': 'a', 'attributes': {'href': 'https://genius.com/Missy-elliott-work-it-lyrics', 'rel': 'noopener'}, 'data': {'api_path': '/songs/4176'}, 'children': ['“Work It,”']}, ' and 2003’s ', {'tag': 'a', 'attributes': {'href': 'https://genius.com/albums/Missy-elliott/This-is-not-a-test', 'rel': 'noopener'}, 'data': {'api_path': '/albums/6622'}, 'children': [{'tag': 'em', 'children': ['This Is Not a Test!']}]}, ', while 2005’s ', {'tag': 'a', 'attributes': {'href': 'https://genius.com/albums/Missy-elliott/The-cookbook', 'rel': 'noopener'}, 'data': {'api_path': '/albums/6618'}, 'children': [{'tag': 'em', 'children': ['The Cookbook']}]}, ' was another platinum album featuring the triple platinum hit ', {'tag': 'a', 'attributes': {'href': 'https://genius.com/Missy-elliott-lose-control-lyrics', 'rel': 'noopener'}, 'data': {'api_path': '/songs/33158'}, 'children': ['“Lose Control”']}, ' with ', {'tag': 'a', 'attributes': {'href': 'https://genius.com/artists/Ciara', 'rel': 'noopener'}, 'data': {'api_path': '/artists/1630'}, 'children': ['Ciara']}, ' and ', {'tag': 'a', 'attributes': {'href': 'https://genius.com/artists/Fatman-scoop', 'rel': 'noopener'}, 'data': {'api_path': '/artists/3516'}, 'children': ['Fatman Scoop']}, '. Missy also wrote, produced and featured on a number of songs, including the platinum hits ', {'tag': 'a', 'attributes': {'href': 'https://genius.com/Ciara-one-two-step-lyrics', 'rel': 'noopener'}, 'data': {'api_path': '/songs/13852'}, 'children': ['“1, 2 Step”']}, ' with Ciara and ', {'tag': 'a', 'attributes': {'href': 'https://genius.com/Keyshia-cole-let-it-go-lyrics', 'rel': 'noopener'}, 'data': {'api_path': '/songs/32495'}, 'children': ['“Let It Go”']}, ' with ', {'tag': 'a', 'attributes': {'href': 'https://genius.com/artists/Keyshia-cole', 'rel': 'noopener'}, 'data': {'api_path': '/artists/782'}, 'children': ['Keyshia Cole']}, \" and Lil' Kim.\"]}, '', {'tag': 'p', 'children': ['Missy is one of the most accomplished women in the music business. On top of selling over 40 million albums, she received the ', {'tag': 'a', 'attributes': {'href': 'https://www.youtube.com/watch?v=tXzGnMErzqc', 'rel': 'noopener nofollow'}, 'children': ['Michael Jackson Video Vanguard Award']}, ' at the 2019 MTV VMAs for her innovative music videos, honored with a star on the ', {'tag': 'a', 'attributes': {'href': 'https://walkoffame.com/missy-elliott/', 'rel': 'noopener nofollow'}, 'children': ['Hollywood Walk of Fame']}, ' in 2021, and she was the first female rapper to be inducted into the ', {'tag': 'a', 'attributes': {'href': 'https://www.songhall.org/profile/missy_elliott', 'rel': 'noopener nofollow'}, 'children': ['Songwriters Hall of Fame']}, ' in 2019 and the ', {'tag': 'a', 'attributes': {'href': 'https://www.rockhall.com/missy-elliott', 'rel': 'noopener nofollow'}, 'children': ['Rock & Roll Hall of Fame']}, ' in 2023.']}]}}, 'comment_count': 0, 'community': True, 'custom_preview': None, 'has_voters': True, 'id': 6925853, 'pinned': False, 'share_url': 'https://genius.com/6925853', 'source': None, 'state': 'accepted', 'url': 'https://genius.com/6925853/Missy-elliott/Missy-elliott', 'verified': False, 'votes_total': 42, 'current_user_metadata': {'permissions': [], 'excluded_permissions': ['vote', 'edit', 'cosign', 'uncosign', 'destroy', 'accept', 'reject', 'see_unreviewed', 'clear_votes', 'propose_edit_to', 'pin_to_profile', 'unpin_from_profile', 'update_source', 'edit_custom_preview', 'report_as_abusive', 'create_comment'], 'interactions': {'cosign': False, 'pyong': False, 'vote': None}, 'iq_by_action': {}}, 'authors': [{'attribution': 0.8573913043478261, 'pinned_role': None, 'user': {'api_path': '/users/3492882', 'avatar': {'tiny': {'url': 'https://images.genius.com/avatars/tiny/981605b56878ef16a812df453300d0fc', 'bounding_box': {'width': 16, 'height': 16}}, 'thumb': {'url': 'https://images.genius.com/avatars/thumb/981605b56878ef16a812df453300d0fc', 'bounding_box': {'width': 32, 'height': 32}}, 'small': {'url': 'https://images.genius.com/avatars/small/981605b56878ef16a812df453300d0fc', 'bounding_box': {'width': 100, 'height': 100}}, 'medium': {'url': 'https://images.genius.com/avatars/medium/981605b56878ef16a812df453300d0fc', 'bounding_box': {'width': 300, 'height': 400}}}, 'header_image_url': 'https://images.genius.com/avatars/medium/981605b56878ef16a812df453300d0fc', 'human_readable_role_for_display': 'Editor', 'id': 3492882, 'iq': 4545421, 'login': 'SmashBeezy', 'name': 'SmashBeezy', 'role_for_display': 'editor', 'url': 'https://genius.com/SmashBeezy', 'current_user_metadata': {'permissions': [], 'excluded_permissions': ['follow'], 'interactions': {'following': False}}}}, {'attribution': 0.07478260869565218, 'pinned_role': None, 'user': {'api_path': '/users/143119', 'avatar': {'tiny': {'url': 'https://images.genius.com/avatars/tiny/435bf4128688f7daf8886838ca43fdb7', 'bounding_box': {'width': 16, 'height': 16}}, 'thumb': {'url': 'https://images.genius.com/avatars/thumb/435bf4128688f7daf8886838ca43fdb7', 'bounding_box': {'width': 32, 'height': 32}}, 'small': {'url': 'https://images.genius.com/avatars/small/435bf4128688f7daf8886838ca43fdb7', 'bounding_box': {'width': 100, 'height': 100}}, 'medium': {'url': 'https://images.genius.com/avatars/medium/435bf4128688f7daf8886838ca43fdb7', 'bounding_box': {'width': 300, 'height': 400}}}, 'header_image_url': 'https://images.genius.com/avatars/medium/435bf4128688f7daf8886838ca43fdb7', 'human_readable_role_for_display': 'Moderator', 'id': 143119, 'iq': 207074, 'login': 'TheScrivener', 'name': 'Elizabeth Milch', 'role_for_display': 'moderator', 'url': 'https://genius.com/TheScrivener', 'current_user_metadata': {'permissions': [], 'excluded_permissions': ['follow'], 'interactions': {'following': False}}}}, {'attribution': 0.06608695652173913, 'pinned_role': None, 'user': {'api_path': '/users/6185806', 'avatar': {'tiny': {'url': 'https://images.genius.com/avatars/tiny/5ea91fbd2963b120e00636eaf2ff8c8e', 'bounding_box': {'width': 16, 'height': 16}}, 'thumb': {'url': 'https://images.genius.com/avatars/thumb/5ea91fbd2963b120e00636eaf2ff8c8e', 'bounding_box': {'width': 32, 'height': 32}}, 'small': {'url': 'https://images.genius.com/avatars/small/5ea91fbd2963b120e00636eaf2ff8c8e', 'bounding_box': {'width': 100, 'height': 100}}, 'medium': {'url': 'https://images.genius.com/avatars/medium/5ea91fbd2963b120e00636eaf2ff8c8e', 'bounding_box': {'width': 300, 'height': 400}}}, 'header_image_url': 'https://images.genius.com/90a3436222039384fad5f814953ed5ef.1000x454x1.jpg', 'human_readable_role_for_display': 'Editor', 'id': 6185806, 'iq': 120174, 'login': 'ninetyninedreams', 'name': '\\u200bninetyninedreams #BLM', 'role_for_display': 'editor', 'url': 'https://genius.com/ninetyninedreams', 'current_user_metadata': {'permissions': [], 'excluded_permissions': ['follow'], 'interactions': {'following': False}}}}, {'attribution': 0.0017391304347826085, 'pinned_role': None, 'user': {'api_path': '/users/13229670', 'avatar': {'tiny': {'url': 'https://images.genius.com/avatars/tiny/8e1812a5c417881497779821201eb183', 'bounding_box': {'width': 16, 'height': 16}}, 'thumb': {'url': 'https://images.genius.com/avatars/thumb/8e1812a5c417881497779821201eb183', 'bounding_box': {'width': 32, 'height': 32}}, 'small': {'url': 'https://images.genius.com/avatars/small/8e1812a5c417881497779821201eb183', 'bounding_box': {'width': 100, 'height': 100}}, 'medium': {'url': 'https://images.genius.com/avatars/medium/8e1812a5c417881497779821201eb183', 'bounding_box': {'width': 300, 'height': 400}}}, 'header_image_url': 'https://images.genius.com/7facdb06af314ccee024d4a331a01d80.500x502x1.jpg', 'human_readable_role_for_display': 'Contributor', 'id': 13229670, 'iq': 51529, 'login': 'wherethefuckaretheavocados', 'name': '⚡ tbh laci ⚡', 'role_for_display': 'contributor', 'url': 'https://genius.com/wherethefuckaretheavocados', 'current_user_metadata': {'permissions': [], 'excluded_permissions': ['follow'], 'interactions': {'following': False}}}}], 'cosigned_by': [], 'rejection_comment': None, 'verified_by': None}]}, 'user': None}}}\n"
          ]
        }
      ],
      "source": [
        "## Exercise 2\n",
        "\n",
        "\"\"\"\n",
        "    Define genius class and retrieve access token;\n",
        "    Search for artist and get the first hit's artist ID\n",
        "\"\"\"\n",
        "import requests\n",
        "import pandas as pd\n",
        "import os\n",
        "\n",
        "class Genius:\n",
        "    def __init__(self):\n",
        "        self.access_token = os.getenv('ACCESS_TOKEN')\n",
        "    def get_artist(self, search_term):\n",
        "        search_url = f\"http://api.genius.com/search?q={search_term}&access_token={self.access_token}\"\n",
        "        response = requests.get(search_url)\n",
        "        json_data = response.json()\n",
        "      \n",
        "        \"\"\"\n",
        "            Extract the artist ID from the first hit\n",
        "        \"\"\"\n",
        "        artist_id = json_data['response']['hits'][0]['result']['primary_artist']['id']\n",
        "        \"\"\"\n",
        "            Use the artist ID to get the artist information\"\"\"\n",
        "        artist_url = f\"http://api.genius.com/artists/{artist_id}?access_token={self.access_token}\"\n",
        "        artist_response = requests.get(artist_url)\n",
        "        artist_data = artist_response.json()\n",
        "        \"\"\"\n",
        "            Return the resulting JSON object\n",
        "        \"\"\"\n",
        "        return artist_data\n",
        "genius = Genius()\n",
        "artist_info = genius.get_artist(\"Missy Elliott\")\n",
        "print(artist_info) \n",
        "\n"
      ]
    },
    {
      "cell_type": "markdown",
      "id": "55054b2a",
      "metadata": {},
      "source": [
        "## Exercise 3\n",
        "\n",
        "Use the result from Exercise 2 to create another method for our `Genius` class called `.get_artists(search_terms)` (plural) which takes in a *list* of search terms, and returns a DataFrame containing a row for each search term, and the following columns:\n",
        "\n",
        "- `search_term`: the raw search term from `search_terms`\n",
        "- `artist_name`: the (most likely) artist name for the search term\n",
        "- `artist_id`: the Genius Artist ID for that artist, based on the API call\n",
        "- `followers_count`: the number of followers for that artist (if available)\n",
        "\n",
        "For example, the following should return a DataFrame with 4 rows:\n",
        "\n",
        "```python\n",
        "genius.get_artists(['Rihanna', 'Tycho', 'Seal', 'U2'])\n",
        "```"
      ]
    },
    {
      "cell_type": "code",
      "execution_count": 117,
      "id": "d52696c3",
      "metadata": {},
      "outputs": [
        {
          "name": "stdout",
          "output_type": "stream",
          "text": [
            "    search_term   artist_name  artist_id  follower_count\n",
            "0     Shaboozey     Shaboozey      69508              29\n",
            "1         Usher         USHER        132             576\n",
            "2  Taylor Swift  Taylor Swift       1177           10582\n",
            "3         Drake         Drake        130           17841\n"
          ]
        }
      ],
      "source": [
        "## Exercise 3\n",
        "\n",
        "#    Use the result from Exercise 2 to create another method for our 'Genius' class called '.get_artists(search_terms)' (plural) which takes in a list of search terms, and returns a DataFrame containing a row for each search term, and the following columns:\n",
        "import requests\n",
        "import pandas as pd\n",
        "import os\n",
        "from dotenv import load_dotenv\n",
        "load_dotenv('week-6.env')\n",
        "\n",
        "class Genius:\n",
        "    def __init__(self):\n",
        "        self.access_token = os.getenv('ACCESS_TOKEN')\n",
        "    \"\"\"\n",
        "        New method to get artist information for a list of search terms\n",
        "        Getting artist information for various search terms\n",
        "    \"\"\"\n",
        "    def get_artist(self, search_term):\n",
        "        search_url = f\"http://api.genius.com/search?q={search_term}&access_token={self.access_token}\"\n",
        "        response = requests.get(search_url)\n",
        "        json_data = response.json()\n",
        "        artist_id = json_data['response']['hits'][0]['result']['primary_artist']['id']\n",
        "        artist_url = f\"http://api.genius.com/artists/{artist_id}?access_token={self.access_token}\"\n",
        "        artist_response = requests.get(artist_url)\n",
        "        artist_data = artist_response.json()\n",
        "        return artist_data\n",
        "    \"\"\"\n",
        "        Defining columns and creating DataFrame\n",
        "        Returns DataFrame with artist details\n",
        "    \"\"\"\n",
        "    def get_artists(self, search_terms):\n",
        "        records = []\n",
        "        for term in search_terms:\n",
        "            artist_info = self.get_artist(term)\n",
        "            artist_data = artist_info['response']['artist']\n",
        "            record = {\n",
        "                'search_term': term,\n",
        "                'artist_name': artist_data.get('name'),\n",
        "                'artist_id': artist_data.get('id'),\n",
        "                'follower_count': artist_data.get('followers_count')\n",
        "            }\n",
        "            records.append(record)\n",
        "        df = pd.DataFrame(records)\n",
        "        return df\n",
        "genius = Genius()\n",
        "search_terms = [\"Shaboozey\", \"Usher\", \"Taylor Swift\", \"Drake\"]\n",
        "df = genius.get_artists(search_terms)\n",
        "print(df)"
      ]
    },
    {
      "cell_type": "markdown",
      "id": "20fd446a",
      "metadata": {},
      "source": [
        "## Bonus Exercise (optional)\n",
        "\n",
        "1. Gather a list of 100+ various musical artists, and save this list in a TXT file.\n",
        "2. Write a Python *script* that saves the result of `.get_artists` for these artists in a CSV file.\n",
        "3. If you have time, adjust this script to use multiprocessing."
      ]
    }
  ],
  "metadata": {
    "colab": {
      "provenance": []
    },
    "kernelspec": {
      "display_name": "week-6",
      "language": "python",
      "name": "python3"
    },
    "language_info": {
      "codemirror_mode": {
        "name": "ipython",
        "version": 3
      },
      "file_extension": ".py",
      "mimetype": "text/x-python",
      "name": "python",
      "nbconvert_exporter": "python",
      "pygments_lexer": "ipython3",
      "version": "3.9.23"
    }
  },
  "nbformat": 4,
  "nbformat_minor": 5
}
